{
 "cells": [
  {
   "cell_type": "code",
   "execution_count": 2,
   "id": "boxed-cylinder",
   "metadata": {},
   "outputs": [],
   "source": [
    "import os\n",
    "from change_yaml import *\n",
    "from openpyxl import Workbook\n",
    "from change_directory import *"
   ]
  },
  {
   "cell_type": "markdown",
   "id": "junior-evening",
   "metadata": {},
   "source": [
    "# !! Please write the directory you put datasets in."
   ]
  },
  {
   "cell_type": "code",
   "execution_count": null,
   "id": "superb-mouse",
   "metadata": {},
   "outputs": [],
   "source": [
    "# Please modify.\n",
    "UAVDT_directory = '../data/datasets/UAVDT/UAV-benchmark-M'\n",
    "VisDrone_directory = '../data/datasets/VisDroneVID/sequences'\n",
    "AUAIR_directory = '../data/datasets/AUAIR/videos'\n",
    "ImageVID_directory = '../data/datasets/ImageVID_yolo_form'"
   ]
  },
  {
   "cell_type": "code",
   "execution_count": null,
   "id": "christian-wallpaper",
   "metadata": {},
   "outputs": [],
   "source": [
    "change_UAV(UAVDT_directory)\n",
    "change_VisDrone(VisDrone_directory)\n",
    "change_AUAIR(AUAIR_directory)\n",
    "change_ImageVID(ImageVID_directory)"
   ]
  },
  {
   "cell_type": "code",
   "execution_count": null,
   "id": "white-method",
   "metadata": {},
   "outputs": [],
   "source": [
    "UAVDT_video_list = os.listdir(UAVDT_directory) \n",
    "UAVDT_video_list.sort()\n",
    "\n",
    "VisDrone_video_list = os.listdir(VisDrone_directory) \n",
    "VisDrone_video_list.sort()\n",
    "\n",
    "AUAIR_video_list = os.listdir(AUAIR_directory) \n",
    "AUAIR_video_list.sort()\n",
    "\n",
    "ImageVID_video_list = os.listdir(ImageVID_directory)\n",
    "ImageVID_video_list.sort()\n",
    "ImageVID_video_list = ImageVID_video_list[1:] # remove ipynb_checkpoint (If you don't have the ipynb checkpint file, delete this line.)"
   ]
  },
  {
   "cell_type": "markdown",
   "id": "municipal-victorian",
   "metadata": {},
   "source": [
    "## Only run the cell below only at the beginning\n",
    "### Caution : This run may initialize the results stored in excel."
   ]
  },
  {
   "cell_type": "code",
   "execution_count": 3,
   "id": "finnish-touch",
   "metadata": {},
   "outputs": [],
   "source": [
    "os.makedirs('excel_result', exist_ok=True)\n",
    "datasets_name = ['UAVDT', 'VisDrone', 'AUAIR', 'ImageVID'] #if you want to initialize specific dataset, just leave that only in the list.\n",
    "for name in datasets_name:\n",
    "    write_wb = Workbook()\n",
    "    write_ws= write_wb.active\n",
    "    write_ws.append(['video', 't_pack', 'inference', 'NMS', 'Back_to_origianl', 'PAd_Track', 'total', 'mAP_05', 'mAP_05to095', 'average resolution'])\n",
    "    write_wb.save(f'excel_result/{name}_results_baseline.xlsx')\n",
    "    write_wb = Workbook()\n",
    "    write_ws= write_wb.active\n",
    "    write_ws.append(['video', 't_pack', 'inference', 'NMS', 'Back_to_origianl', 'PAd_Track', 'total', 'mAP_05', 'mAP_05to095', 'average resolution'])\n",
    "    write_wb.save(f'excel_result/{name}_results_DynaPP.xlsx')\n",
    "    write_ws= write_wb.active\n",
    "    write_ws.append(['video', 't_pack', 'inference', 'NMS', 'Back_to_origianl', 'PAd_Track', 'total', 'mAP_05', 'mAP_05to095', 'average resolution'])\n",
    "    write_wb.save(f'excel_result/{name}_results_packanddetect.xlsx')"
   ]
  },
  {
   "cell_type": "markdown",
   "id": "african-currency",
   "metadata": {},
   "source": [
    "# UAVDT"
   ]
  },
  {
   "cell_type": "code",
   "execution_count": null,
   "id": "stuck-computer",
   "metadata": {},
   "outputs": [],
   "source": [
    "# Run YOLOv5x on UAVDT\n",
    "for idx, video in enumerate(UAVDT_video_list):\n",
    "    if idx >0:\n",
    "        continue\n",
    "    UAVDT_change_yaml(video)\n",
    "    # The following runs DynaPP, Baseline, Pack and detect in order. \n",
    "    \n",
    "    !python3 val.py --pack --dataset_name 'UAVDT' --weights 'weights/best.pt' --data UAVDT.yaml --task val --img_size 2560 --conf 0.25 --iou 0.65 --batch-size 1\n",
    "    !python3 val.py --dataset_name 'UAVDT' --weights 'weights/best.pt' --data UAVDT.yaml --task val --img_size 2560 --conf 0.25 --iou 0.65 --batch-size 1\n",
    "#     !python3 val_packanddetect.py --pack --dataset_name 'UAVDT' --weights 'weights/best.pt' --data UAVDT.yaml --task val --img_size 2560 --conf 0.25 --iou 0.65 --batch-size 1\n",
    "      "
   ]
  },
  {
   "cell_type": "markdown",
   "id": "authorized-relationship",
   "metadata": {},
   "source": [
    "# VisDrone"
   ]
  },
  {
   "cell_type": "code",
   "execution_count": null,
   "id": "natural-knowing",
   "metadata": {},
   "outputs": [],
   "source": [
    "# Run YOLOv5x on VisDrone\n",
    "for idx, video in enumerate(VisDrone_video_list):\n",
    "    VisDrone_change_yaml(video)\n",
    "    # The following runs DynaPP, Baseline, Pack and detect in order. \n",
    "\n",
    "    !python3 val.py --pack --dataset_name 'VisDrone' --weights 'weights/best.pt' --data VisDroneVID.yaml --task val --img_size 2560 --conf 0.25 --iou 0.65 --batch-size 1\n",
    "    !python3 val.py --pack --dataset_name 'VisDrone' --weights 'weights/best.pt' --data VisDroneVID.yaml --task val --img_size 2560 --conf 0.25 --iou 0.65 --batch-size 1\n",
    "#     !python3 val_packanddetect.py --pack --dataset_name 'VisDrone' --weights 'weights/best.pt' --data VisDroneVID.yaml --task val --img_size 2560 --conf 0.25 --iou 0.65 --batch-size 1\n"
   ]
  },
  {
   "cell_type": "markdown",
   "id": "finite-cartoon",
   "metadata": {},
   "source": [
    "# AUAIR"
   ]
  },
  {
   "cell_type": "code",
   "execution_count": null,
   "id": "advisory-imagination",
   "metadata": {},
   "outputs": [],
   "source": [
    "# Run YOLOv5x on AUAIR\n",
    "for idx, video in enumerate(AUAIR_video_list):\n",
    "    AUAIR_change_yaml(video)\n",
    "    # The following runs DynaPP, Baseline, Pack and detect in order. \n",
    "\n",
    "    !python3 val.py --pack --dataset_name 'AUAIR' --background 0.5 --weights 'weights/best.pt' --data AUAIR.yaml --task val --img_size 2560 --conf 0.25 --iou 0.65 --batch-size 1\n",
    "    !python3 val.py --dataset_name 'AUAIR' --weights 'weights/best.pt' --data AUAIR.yaml --task val --img_size 2560 --conf 0.25 --iou 0.65 --batch-size 1\n",
    "#     !python3 val_packanddetect.py --pack --dataset_name 'AUAIR' --background 0.5 --weights 'weights/best.pt' --data AUAIR.yaml --task val --img_size 2560 --conf 0.25 --iou 0.65 --batch-size 1\n"
   ]
  },
  {
   "cell_type": "markdown",
   "id": "distant-while",
   "metadata": {},
   "source": [
    "# ImageNet VID"
   ]
  },
  {
   "cell_type": "code",
   "execution_count": null,
   "id": "entire-genesis",
   "metadata": {},
   "outputs": [],
   "source": [
    "# Run YOLOv5x on ImageVID\n",
    "for idx, video in enumerate(ImageVID_video_list):\n",
    "    ImageVID_change_yaml(video)\n",
    "    # The following runs DynaPP, Baseline, Pack and detect in order. \n",
    "\n",
    "    !python3 val.py --pack --dataset_name 'ImageVID' --weights 'weights/ImageVID_best.pt' --data Imagevid.yaml --task val --img_size 960 --conf 0.25 --iou 0.65 --batch-size 1\n",
    "    !python3 val.py --dataset_name 'ImageVID' --weights 'weights/ImageVID_best.pt' --data Imagevid.yaml --task val --img_size 960 --conf 0.25 --iou 0.65 --batch-size 1\n",
    "#     !python3 val_packanddetect.py --pack --dataset_name 'ImageVID' --weights 'weights/ImageVID_best.pt' --data Imagevid.yaml --task val --img_size 960 --conf 0.25 --iou 0.65 --batch-size 1"
   ]
  }
 ],
 "metadata": {
  "kernelspec": {
   "display_name": "Python 3",
   "language": "python",
   "name": "python3"
  },
  "language_info": {
   "codemirror_mode": {
    "name": "ipython",
    "version": 3
   },
   "file_extension": ".py",
   "mimetype": "text/x-python",
   "name": "python",
   "nbconvert_exporter": "python",
   "pygments_lexer": "ipython3",
   "version": "3.8.8"
  }
 },
 "nbformat": 4,
 "nbformat_minor": 5
}
