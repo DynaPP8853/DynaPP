{
 "cells": [
  {
   "cell_type": "code",
   "execution_count": 1,
   "id": "typical-alpha",
   "metadata": {},
   "outputs": [],
   "source": [
    "import os\n",
    "if not os.path.isdir('hardware_support'):\n",
    "    !mkdir hardware_support"
   ]
  },
  {
   "cell_type": "code",
   "execution_count": 5,
   "id": "polyphonic-afghanistan",
   "metadata": {},
   "outputs": [
    {
     "name": "stderr",
     "output_type": "stream",
     "text": [
      "Fusing layers... \n",
      "Model Summary: 476 layers, 76187892 parameters, 0 gradients, 110.0 GFLOPs\n"
     ]
    }
   ],
   "source": [
    "import torch\n",
    "import numpy as np\n",
    "import matplotlib.pyplot as plt\n",
    "from models.experimental import attempt_load\n",
    "from utils.torch_utils import time_sync as time_synchronized\n",
    "model = attempt_load('weights/best.pt', map_location='cuda')\n",
    "model.eval()\n",
    "img = torch.zeros(1,3,2560,2560).cuda()\n",
    "baseline_resolution = 2560\n",
    "\n",
    "time = []\n",
    "expected_time = []\n",
    "rectangle_time = []\n",
    "rectangle_expected_time = []\n",
    "with torch.no_grad():\n",
    "    for i in range(baseline_resolution, 79,-80):  \n",
    "        t = time_synchronized()\n",
    "        model(img[:,:,:i,:i])\n",
    "        t0 = time_synchronized() - t\n",
    "        if i == baseline_resolution:\n",
    "            base_time = t0\n",
    "        time.append(t0/base_time)\n",
    "        expected_time.append((i/baseline_resolution)**2)\n",
    "\n",
    "with torch.no_grad():\n",
    "    for i in range(baseline_resolution, 79,-80):  \n",
    "        t = time_synchronized()\n",
    "        model(img[:,:,:int(baseline_resolution/10),:i])\n",
    "        t0 = time_synchronized() - t\n",
    "        if i == baseline_resolution:\n",
    "            base_time = t0\n",
    "        rectangle_time.append(t0/base_time)\n",
    "        rectangle_expected_time.append((i/baseline_resolution))\n",
    "\n",
    "\n",
    "fig, ax = plt.subplots()\n",
    "ax.plot(range(baseline_resolution, 79,-80), time, 'r-', label='experimental')\n",
    "ax.plot(range(baseline_resolution, 79,-80), expected_time, 'b-', label='expected')\n",
    "ax.legend()\n",
    "\n",
    "ax.set(xlabel='length :square shape', ylabel='Relative time',\n",
    "       title='hardware support TX2')\n",
    "ax.grid()\n",
    "\n",
    "fig.savefig(\"hardware_support/TX2.png\")\n",
    "plt.show()\n",
    "\n",
    "fig, ax = plt.subplots()\n",
    "ax.plot(range(baseline_resolution, 79,-80), rectangle_time, 'r-', label='experimental')\n",
    "ax.plot(range(baseline_resolution, 79,-80), rectangle_expected_time, 'b-', label='expected')\n",
    "ax.legend()\n",
    "\n",
    "ax.set(xlabel='length : rectangle shape / one side is 256', ylabel='Relative time',\n",
    "       title='hardware support TX2 : not sqaure')\n",
    "ax.grid()\n",
    "\n",
    "fig.savefig(\"hardware_support/not_square_TX2.png\")\n",
    "plt.show()"
   ]
  },
  {
   "cell_type": "code",
   "execution_count": 6,
   "id": "toxic-virginia",
   "metadata": {},
   "outputs": [
    {
     "name": "stderr",
     "output_type": "stream",
     "text": [
      "Fusing layers... \n",
      "Model Summary: 476 layers, 76341732 parameters, 0 gradients, 110.4 GFLOPs\n"
     ]
    }
   ],
   "source": [
    "import torch\n",
    "import numpy as np\n",
    "import matplotlib.pyplot as plt\n",
    "from models.experimental import attempt_load\n",
    "from utils.torch_utils import time_sync as time_synchronized\n",
    "model = attempt_load('weights/ImageVID_best.pt', map_location='cuda')\n",
    "model.eval()\n",
    "baseline_resolution = 960\n",
    "img = torch.zeros(1,3,baseline_resolution,baseline_resolution).cuda()\n",
    "\n",
    "time = []\n",
    "expected_time = []\n",
    "rectangle_time = []\n",
    "rectangle_expected_time = []\n",
    "\n",
    "with torch.no_grad():\n",
    "    for i in range(baseline_resolution, 39,-40):  \n",
    "        t = time_synchronized()\n",
    "        model(img[:,:,:i,:i])\n",
    "        t0 = time_synchronized() - t\n",
    "        if i == baseline_resolution:\n",
    "            base_time = t0\n",
    "        time.append(t0/base_time)\n",
    "        expected_time.append((i/baseline_resolution)**2)\n",
    "\n",
    "with torch.no_grad():\n",
    "    for i in range(baseline_resolution, 39,-40):  \n",
    "        t = time_synchronized()\n",
    "        model(img[:,:,:int(baseline_resolution/10),:i])\n",
    "        t0 = time_synchronized() - t\n",
    "        if i == baseline_resolution:\n",
    "            base_time = t0\n",
    "        rectangle_time.append(t0/base_time)\n",
    "        rectangle_expected_time.append((i/baseline_resolution))\n",
    "\n",
    "fig, ax = plt.subplots()\n",
    "ax.plot(range(baseline_resolution, 39,-40), time, 'r-', label='experimental')\n",
    "ax.plot(range(baseline_resolution, 39,-40), expected_time, 'b-', label='expected')\n",
    "ax.legend()\n",
    "\n",
    "ax.set(xlabel='length :square shape', ylabel='Relative time',\n",
    "       title='hardware support Nano')\n",
    "ax.grid()\n",
    "\n",
    "fig.savefig(\"hardware_support/Nano.png\")\n",
    "plt.show()\n",
    "\n",
    "fig, ax = plt.subplots()\n",
    "ax.plot(range(baseline_resolution, 39,-40), rectangle_time, 'r-', label='experimental')\n",
    "ax.plot(range(baseline_resolution, 39,-40), rectangle_expected_time, 'b-', label='expected')\n",
    "ax.legend()\n",
    "\n",
    "ax.set(xlabel='length : rectangle shape / one side is 96', ylabel='Relative time',\n",
    "       title='hardware support Nano')\n",
    "ax.grid()\n",
    "\n",
    "fig.savefig(\"hardware_support/not_square_Nano.png\")\n",
    "plt.show()"
   ]
  },
  {
   "cell_type": "code",
   "execution_count": null,
   "id": "external-european",
   "metadata": {},
   "outputs": [],
   "source": []
  }
 ],
 "metadata": {
  "kernelspec": {
   "display_name": "Python 3",
   "language": "python",
   "name": "python3"
  },
  "language_info": {
   "codemirror_mode": {
    "name": "ipython",
    "version": 3
   },
   "file_extension": ".py",
   "mimetype": "text/x-python",
   "name": "python",
   "nbconvert_exporter": "python",
   "pygments_lexer": "ipython3",
   "version": "3.8.8"
  }
 },
 "nbformat": 4,
 "nbformat_minor": 5
}
